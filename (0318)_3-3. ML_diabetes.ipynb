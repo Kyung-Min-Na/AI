{
 "cells": [
  {
   "cell_type": "code",
   "execution_count": 1,
   "id": "eadb3b56",
   "metadata": {},
   "outputs": [],
   "source": [
    "import numpy as np\n",
    "import pandas as pd\n",
    "import seaborn as sns\n",
    "import tensorflow as tf\n",
    "\n",
    "from tensorflow import keras\n",
    "from sklearn.model_selection import train_test_split"
   ]
  },
  {
   "cell_type": "markdown",
   "id": "a847754d",
   "metadata": {},
   "source": [
    "## Data load"
   ]
  },
  {
   "cell_type": "code",
   "execution_count": 2,
   "id": "7021adf0",
   "metadata": {},
   "outputs": [
    {
     "data": {
      "text/html": [
       "<div>\n",
       "<style scoped>\n",
       "    .dataframe tbody tr th:only-of-type {\n",
       "        vertical-align: middle;\n",
       "    }\n",
       "\n",
       "    .dataframe tbody tr th {\n",
       "        vertical-align: top;\n",
       "    }\n",
       "\n",
       "    .dataframe thead th {\n",
       "        text-align: right;\n",
       "    }\n",
       "</style>\n",
       "<table border=\"1\" class=\"dataframe\">\n",
       "  <thead>\n",
       "    <tr style=\"text-align: right;\">\n",
       "      <th></th>\n",
       "      <th>Glucose</th>\n",
       "      <th>BloodPressure</th>\n",
       "      <th>SkinThickness</th>\n",
       "      <th>Insulin</th>\n",
       "      <th>BMI</th>\n",
       "      <th>DiabetesPedigreeFunction</th>\n",
       "      <th>Age</th>\n",
       "      <th>Outcome</th>\n",
       "    </tr>\n",
       "    <tr>\n",
       "      <th>Pregnancies</th>\n",
       "      <th></th>\n",
       "      <th></th>\n",
       "      <th></th>\n",
       "      <th></th>\n",
       "      <th></th>\n",
       "      <th></th>\n",
       "      <th></th>\n",
       "      <th></th>\n",
       "    </tr>\n",
       "  </thead>\n",
       "  <tbody>\n",
       "    <tr>\n",
       "      <th>6</th>\n",
       "      <td>148</td>\n",
       "      <td>72</td>\n",
       "      <td>35</td>\n",
       "      <td>0</td>\n",
       "      <td>33.6</td>\n",
       "      <td>0.627</td>\n",
       "      <td>50</td>\n",
       "      <td>1</td>\n",
       "    </tr>\n",
       "    <tr>\n",
       "      <th>1</th>\n",
       "      <td>85</td>\n",
       "      <td>66</td>\n",
       "      <td>29</td>\n",
       "      <td>0</td>\n",
       "      <td>26.6</td>\n",
       "      <td>0.351</td>\n",
       "      <td>31</td>\n",
       "      <td>0</td>\n",
       "    </tr>\n",
       "    <tr>\n",
       "      <th>8</th>\n",
       "      <td>183</td>\n",
       "      <td>64</td>\n",
       "      <td>0</td>\n",
       "      <td>0</td>\n",
       "      <td>23.3</td>\n",
       "      <td>0.672</td>\n",
       "      <td>32</td>\n",
       "      <td>1</td>\n",
       "    </tr>\n",
       "    <tr>\n",
       "      <th>1</th>\n",
       "      <td>89</td>\n",
       "      <td>66</td>\n",
       "      <td>23</td>\n",
       "      <td>94</td>\n",
       "      <td>28.1</td>\n",
       "      <td>0.167</td>\n",
       "      <td>21</td>\n",
       "      <td>0</td>\n",
       "    </tr>\n",
       "    <tr>\n",
       "      <th>0</th>\n",
       "      <td>137</td>\n",
       "      <td>40</td>\n",
       "      <td>35</td>\n",
       "      <td>168</td>\n",
       "      <td>43.1</td>\n",
       "      <td>2.288</td>\n",
       "      <td>33</td>\n",
       "      <td>1</td>\n",
       "    </tr>\n",
       "    <tr>\n",
       "      <th>...</th>\n",
       "      <td>...</td>\n",
       "      <td>...</td>\n",
       "      <td>...</td>\n",
       "      <td>...</td>\n",
       "      <td>...</td>\n",
       "      <td>...</td>\n",
       "      <td>...</td>\n",
       "      <td>...</td>\n",
       "    </tr>\n",
       "    <tr>\n",
       "      <th>10</th>\n",
       "      <td>101</td>\n",
       "      <td>76</td>\n",
       "      <td>48</td>\n",
       "      <td>180</td>\n",
       "      <td>32.9</td>\n",
       "      <td>0.171</td>\n",
       "      <td>63</td>\n",
       "      <td>0</td>\n",
       "    </tr>\n",
       "    <tr>\n",
       "      <th>2</th>\n",
       "      <td>122</td>\n",
       "      <td>70</td>\n",
       "      <td>27</td>\n",
       "      <td>0</td>\n",
       "      <td>36.8</td>\n",
       "      <td>0.340</td>\n",
       "      <td>27</td>\n",
       "      <td>0</td>\n",
       "    </tr>\n",
       "    <tr>\n",
       "      <th>5</th>\n",
       "      <td>121</td>\n",
       "      <td>72</td>\n",
       "      <td>23</td>\n",
       "      <td>112</td>\n",
       "      <td>26.2</td>\n",
       "      <td>0.245</td>\n",
       "      <td>30</td>\n",
       "      <td>0</td>\n",
       "    </tr>\n",
       "    <tr>\n",
       "      <th>1</th>\n",
       "      <td>126</td>\n",
       "      <td>60</td>\n",
       "      <td>0</td>\n",
       "      <td>0</td>\n",
       "      <td>30.1</td>\n",
       "      <td>0.349</td>\n",
       "      <td>47</td>\n",
       "      <td>1</td>\n",
       "    </tr>\n",
       "    <tr>\n",
       "      <th>1</th>\n",
       "      <td>93</td>\n",
       "      <td>70</td>\n",
       "      <td>31</td>\n",
       "      <td>0</td>\n",
       "      <td>30.4</td>\n",
       "      <td>0.315</td>\n",
       "      <td>23</td>\n",
       "      <td>0</td>\n",
       "    </tr>\n",
       "  </tbody>\n",
       "</table>\n",
       "<p>768 rows × 8 columns</p>\n",
       "</div>"
      ],
      "text/plain": [
       "             Glucose  BloodPressure  SkinThickness  Insulin   BMI  \\\n",
       "Pregnancies                                                         \n",
       "6                148             72             35        0  33.6   \n",
       "1                 85             66             29        0  26.6   \n",
       "8                183             64              0        0  23.3   \n",
       "1                 89             66             23       94  28.1   \n",
       "0                137             40             35      168  43.1   \n",
       "...              ...            ...            ...      ...   ...   \n",
       "10               101             76             48      180  32.9   \n",
       "2                122             70             27        0  36.8   \n",
       "5                121             72             23      112  26.2   \n",
       "1                126             60              0        0  30.1   \n",
       "1                 93             70             31        0  30.4   \n",
       "\n",
       "             DiabetesPedigreeFunction  Age  Outcome  \n",
       "Pregnancies                                          \n",
       "6                               0.627   50        1  \n",
       "1                               0.351   31        0  \n",
       "8                               0.672   32        1  \n",
       "1                               0.167   21        0  \n",
       "0                               2.288   33        1  \n",
       "...                               ...  ...      ...  \n",
       "10                              0.171   63        0  \n",
       "2                               0.340   27        0  \n",
       "5                               0.245   30        0  \n",
       "1                               0.349   47        1  \n",
       "1                               0.315   23        0  \n",
       "\n",
       "[768 rows x 8 columns]"
      ]
     },
     "execution_count": 2,
     "metadata": {},
     "output_type": "execute_result"
    }
   ],
   "source": [
    "df = pd.read_csv(\"C:/Users/nkm11/Desktop/AI_class/diabetes.csv\", index_col=0)\n",
    "df"
   ]
  },
  {
   "cell_type": "code",
   "execution_count": 3,
   "id": "32340ad4",
   "metadata": {},
   "outputs": [
    {
     "data": {
      "text/plain": [
       "Glucose                     0\n",
       "BloodPressure               0\n",
       "SkinThickness               0\n",
       "Insulin                     0\n",
       "BMI                         0\n",
       "DiabetesPedigreeFunction    0\n",
       "Age                         0\n",
       "Outcome                     0\n",
       "dtype: int64"
      ]
     },
     "execution_count": 3,
     "metadata": {},
     "output_type": "execute_result"
    }
   ],
   "source": [
    "# 결측치 확인\n",
    "df.isnull().sum()"
   ]
  },
  {
   "cell_type": "code",
   "execution_count": 4,
   "id": "4632edd7",
   "metadata": {},
   "outputs": [
    {
     "data": {
      "text/plain": [
       "Glucose                     0\n",
       "BloodPressure               0\n",
       "SkinThickness               0\n",
       "Insulin                     0\n",
       "BMI                         0\n",
       "DiabetesPedigreeFunction    0\n",
       "Age                         0\n",
       "Outcome                     0\n",
       "dtype: int64"
      ]
     },
     "execution_count": 4,
     "metadata": {},
     "output_type": "execute_result"
    }
   ],
   "source": [
    "# 결측치 제거\n",
    "df = df.dropna()\n",
    "df.isnull().sum()"
   ]
  },
  {
   "cell_type": "code",
   "execution_count": 5,
   "id": "39df15aa",
   "metadata": {},
   "outputs": [
    {
     "data": {
      "text/html": [
       "<div>\n",
       "<style scoped>\n",
       "    .dataframe tbody tr th:only-of-type {\n",
       "        vertical-align: middle;\n",
       "    }\n",
       "\n",
       "    .dataframe tbody tr th {\n",
       "        vertical-align: top;\n",
       "    }\n",
       "\n",
       "    .dataframe thead th {\n",
       "        text-align: right;\n",
       "    }\n",
       "</style>\n",
       "<table border=\"1\" class=\"dataframe\">\n",
       "  <thead>\n",
       "    <tr style=\"text-align: right;\">\n",
       "      <th></th>\n",
       "      <th>Glucose</th>\n",
       "      <th>BloodPressure</th>\n",
       "      <th>SkinThickness</th>\n",
       "      <th>Insulin</th>\n",
       "      <th>BMI</th>\n",
       "      <th>DiabetesPedigreeFunction</th>\n",
       "      <th>Age</th>\n",
       "    </tr>\n",
       "    <tr>\n",
       "      <th>Pregnancies</th>\n",
       "      <th></th>\n",
       "      <th></th>\n",
       "      <th></th>\n",
       "      <th></th>\n",
       "      <th></th>\n",
       "      <th></th>\n",
       "      <th></th>\n",
       "    </tr>\n",
       "  </thead>\n",
       "  <tbody>\n",
       "    <tr>\n",
       "      <th>6</th>\n",
       "      <td>148</td>\n",
       "      <td>72</td>\n",
       "      <td>35</td>\n",
       "      <td>0</td>\n",
       "      <td>33.6</td>\n",
       "      <td>0.627</td>\n",
       "      <td>50</td>\n",
       "    </tr>\n",
       "    <tr>\n",
       "      <th>1</th>\n",
       "      <td>85</td>\n",
       "      <td>66</td>\n",
       "      <td>29</td>\n",
       "      <td>0</td>\n",
       "      <td>26.6</td>\n",
       "      <td>0.351</td>\n",
       "      <td>31</td>\n",
       "    </tr>\n",
       "    <tr>\n",
       "      <th>8</th>\n",
       "      <td>183</td>\n",
       "      <td>64</td>\n",
       "      <td>0</td>\n",
       "      <td>0</td>\n",
       "      <td>23.3</td>\n",
       "      <td>0.672</td>\n",
       "      <td>32</td>\n",
       "    </tr>\n",
       "    <tr>\n",
       "      <th>1</th>\n",
       "      <td>89</td>\n",
       "      <td>66</td>\n",
       "      <td>23</td>\n",
       "      <td>94</td>\n",
       "      <td>28.1</td>\n",
       "      <td>0.167</td>\n",
       "      <td>21</td>\n",
       "    </tr>\n",
       "    <tr>\n",
       "      <th>0</th>\n",
       "      <td>137</td>\n",
       "      <td>40</td>\n",
       "      <td>35</td>\n",
       "      <td>168</td>\n",
       "      <td>43.1</td>\n",
       "      <td>2.288</td>\n",
       "      <td>33</td>\n",
       "    </tr>\n",
       "  </tbody>\n",
       "</table>\n",
       "</div>"
      ],
      "text/plain": [
       "             Glucose  BloodPressure  SkinThickness  Insulin   BMI  \\\n",
       "Pregnancies                                                         \n",
       "6                148             72             35        0  33.6   \n",
       "1                 85             66             29        0  26.6   \n",
       "8                183             64              0        0  23.3   \n",
       "1                 89             66             23       94  28.1   \n",
       "0                137             40             35      168  43.1   \n",
       "\n",
       "             DiabetesPedigreeFunction  Age  \n",
       "Pregnancies                                 \n",
       "6                               0.627   50  \n",
       "1                               0.351   31  \n",
       "8                               0.672   32  \n",
       "1                               0.167   21  \n",
       "0                               2.288   33  "
      ]
     },
     "execution_count": 5,
     "metadata": {},
     "output_type": "execute_result"
    }
   ],
   "source": [
    "X=df.drop('Outcome',axis=1)\n",
    "X.head()"
   ]
  },
  {
   "cell_type": "code",
   "execution_count": 7,
   "id": "f389e23e",
   "metadata": {},
   "outputs": [
    {
     "data": {
      "text/plain": [
       "Outcome\n",
       "0    500\n",
       "1    268\n",
       "Name: count, dtype: int64"
      ]
     },
     "execution_count": 7,
     "metadata": {},
     "output_type": "execute_result"
    }
   ],
   "source": [
    "y=df['Outcome']\n",
    "y.value_counts()"
   ]
  },
  {
   "cell_type": "markdown",
   "id": "1c9f4cc9",
   "metadata": {},
   "source": [
    "## Data split"
   ]
  },
  {
   "cell_type": "code",
   "execution_count": 8,
   "id": "96cb5e27",
   "metadata": {},
   "outputs": [],
   "source": [
    "from sklearn.model_selection import train_test_split\n",
    "\n",
    "X_train, X_test, y_train, y_test = train_test_split(X, y,test_size=0.25,random_state=0)"
   ]
  },
  {
   "cell_type": "markdown",
   "id": "3ec69c3a",
   "metadata": {},
   "source": [
    "## Model"
   ]
  },
  {
   "cell_type": "code",
   "execution_count": 9,
   "id": "6f12e36e",
   "metadata": {},
   "outputs": [],
   "source": [
    "from sklearn.linear_model import LogisticRegression\n",
    "from sklearn.svm import SVC\n",
    "from sklearn.neural_network import MLPClassifier\n",
    "from sklearn.tree import DecisionTreeClassifier\n",
    "from sklearn.metrics import accuracy_score\n",
    "from sklearn.metrics import confusion_matrix"
   ]
  },
  {
   "cell_type": "code",
   "execution_count": 10,
   "id": "a036fe28",
   "metadata": {},
   "outputs": [
    {
     "name": "stdout",
     "output_type": "stream",
     "text": [
      "\n",
      "--- SVM Classifier ---\n",
      "0.78125\n",
      "[[119  11]\n",
      " [ 31  31]]\n"
     ]
    }
   ],
   "source": [
    "from sklearn.svm import SVC\n",
    "\n",
    "clf_svm = SVC(random_state=0)\n",
    "clf_svm.fit(X_train, y_train)\n",
    "\n",
    "pred_svm = clf_svm.predict(X_test)\n",
    "\n",
    "print(\"\\n--- SVM Classifier ---\")\n",
    "print(accuracy_score(y_test, pred_svm))\n",
    "print(confusion_matrix(y_test, pred_svm))"
   ]
  },
  {
   "cell_type": "code",
   "execution_count": 11,
   "id": "ef1fbf74",
   "metadata": {},
   "outputs": [
    {
     "name": "stdout",
     "output_type": "stream",
     "text": [
      "\n",
      "--- Logistic Regression Classifier ---\n",
      "0.7916666666666666\n",
      "[[116  14]\n",
      " [ 26  36]]\n"
     ]
    },
    {
     "name": "stderr",
     "output_type": "stream",
     "text": [
      "C:\\Users\\nkm11\\anaconda3\\envs\\dr\\Lib\\site-packages\\sklearn\\linear_model\\_logistic.py:460: ConvergenceWarning: lbfgs failed to converge (status=1):\n",
      "STOP: TOTAL NO. of ITERATIONS REACHED LIMIT.\n",
      "\n",
      "Increase the number of iterations (max_iter) or scale the data as shown in:\n",
      "    https://scikit-learn.org/stable/modules/preprocessing.html\n",
      "Please also refer to the documentation for alternative solver options:\n",
      "    https://scikit-learn.org/stable/modules/linear_model.html#logistic-regression\n",
      "  n_iter_i = _check_optimize_result(\n"
     ]
    }
   ],
   "source": [
    "# Build a logistic regression classifier and predict\n",
    "\n",
    "clf_lr = LogisticRegression(random_state=0)\n",
    "clf_lr.fit(X_train, y_train)\n",
    "\n",
    "pred_lr = clf_lr.predict(X_test)\n",
    "\n",
    "print (\"\\n--- Logistic Regression Classifier ---\")\n",
    "print (accuracy_score(y_test, pred_lr))\n",
    "print (confusion_matrix(y_test, pred_lr))"
   ]
  },
  {
   "cell_type": "code",
   "execution_count": 12,
   "id": "a15bb116",
   "metadata": {},
   "outputs": [
    {
     "name": "stdout",
     "output_type": "stream",
     "text": [
      "\n",
      "--- Neural Network Classifier ---\n",
      "0.6875\n",
      "[[111  19]\n",
      " [ 41  21]]\n"
     ]
    }
   ],
   "source": [
    "clf_nn = MLPClassifier(random_state=0)\n",
    "clf_nn.fit(X_train, y_train)\n",
    "\n",
    "pred_nn = clf_nn.predict(X_test)\n",
    "\n",
    "print (\"\\n--- Neural Network Classifier ---\")\n",
    "print (accuracy_score(y_test, pred_nn))\n",
    "print (confusion_matrix(y_test, pred_nn))"
   ]
  },
  {
   "cell_type": "code",
   "execution_count": 13,
   "id": "7a43f989",
   "metadata": {},
   "outputs": [
    {
     "name": "stdout",
     "output_type": "stream",
     "text": [
      "\n",
      "--- Decision Tree Classifier ---\n",
      "0.7447916666666666\n",
      "[[103  27]\n",
      " [ 22  40]]\n"
     ]
    }
   ],
   "source": [
    "# Build a decision tree classifier and predict\n",
    "\n",
    "clf_dt = DecisionTreeClassifier(random_state=0)\n",
    "clf_dt.fit(X_train, y_train)\n",
    "\n",
    "pred_dt = clf_dt.predict(X_test)\n",
    "\n",
    "print (\"\\n--- Decision Tree Classifier ---\")\n",
    "print (accuracy_score(y_test, pred_dt))\n",
    "print (confusion_matrix(y_test, pred_dt))"
   ]
  },
  {
   "cell_type": "code",
   "execution_count": 14,
   "id": "70e3a9b2",
   "metadata": {},
   "outputs": [
    {
     "name": "stdout",
     "output_type": "stream",
     "text": [
      "\n",
      "--- Radom Forest ---\n",
      "0.7760416666666666\n",
      "[[114  16]\n",
      " [ 27  35]]\n"
     ]
    }
   ],
   "source": [
    "from sklearn.ensemble import RandomForestClassifier\n",
    "from sklearn.metrics import accuracy_score\n",
    "import pandas as pd\n",
    "import warnings\n",
    "warnings.filterwarnings('ignore')\n",
    "\n",
    "print (\"\\n--- Radom Forest ---\")\n",
    "rf_clf = RandomForestClassifier(random_state=0)\n",
    "rf_clf.fit(X_train, y_train)\n",
    "pred = rf_clf.predict(X_test)\n",
    "print(accuracy_score(y_test,pred))\n",
    "print (confusion_matrix(y_test, pred))"
   ]
  },
  {
   "cell_type": "markdown",
   "id": "694b0bf9",
   "metadata": {},
   "source": [
    "# 0318 추가과제\n",
    "1. 결측치 확인 및 제거\n",
    "\n",
    "2. 산점도\n",
    "\n",
    "3. Boxplot\n",
    "\n",
    "4. 레이블 확인 (갯수 - value_counts(), sns)\n",
    "\n",
    "5. Scaling (Stand, Min-Max)"
   ]
  },
  {
   "cell_type": "code",
   "execution_count": 18,
   "id": "2e9640b9",
   "metadata": {},
   "outputs": [
    {
     "data": {
      "text/plain": [
       "Glucose                     0\n",
       "BloodPressure               0\n",
       "SkinThickness               0\n",
       "Insulin                     0\n",
       "BMI                         0\n",
       "DiabetesPedigreeFunction    0\n",
       "Age                         0\n",
       "Outcome                     0\n",
       "dtype: int64"
      ]
     },
     "execution_count": 18,
     "metadata": {},
     "output_type": "execute_result"
    }
   ],
   "source": [
    "# 결측치 확인\n",
    "df.isnull().sum()"
   ]
  },
  {
   "cell_type": "code",
   "execution_count": 19,
   "id": "b949d58c",
   "metadata": {},
   "outputs": [
    {
     "data": {
      "text/plain": [
       "Glucose                     0\n",
       "BloodPressure               0\n",
       "SkinThickness               0\n",
       "Insulin                     0\n",
       "BMI                         0\n",
       "DiabetesPedigreeFunction    0\n",
       "Age                         0\n",
       "Outcome                     0\n",
       "dtype: int64"
      ]
     },
     "execution_count": 19,
     "metadata": {},
     "output_type": "execute_result"
    }
   ],
   "source": [
    "# 결측치 제거\n",
    "df = df.dropna()\n",
    "df.isnull().sum()"
   ]
  },
  {
   "cell_type": "code",
   "execution_count": 20,
   "id": "5891bd87",
   "metadata": {},
   "outputs": [
    {
     "data": {
      "image/png": "[encoded data removed]",
      "text/plain": [
       "<Figure size 640x480 with 1 Axes>"
      ]
     },
     "metadata": {},
     "output_type": "display_data"
    }
   ],
   "source": [
    "import seaborn as sns\n",
    "import matplotlib.pyplot as plt\n",
    "\n",
    "# 산점도 그리기\n",
    "plt.scatter(df['Glucose'], df['Age'])\n",
    "plt.xlabel('Glucose')\n",
    "plt.ylabel('Age')\n",
    "plt.title('Age / Glucose')\n",
    "plt.grid(True)\n",
    "plt.show()"
   ]
  },
  {
   "cell_type": "code",
   "execution_count": 21,
   "id": "0d385b48",
   "metadata": {},
   "outputs": [
    {
     "data": {
      "image/png": "[encoded data removed]",
      "text/plain": [
       "<Figure size 640x480 with 1 Axes>"
      ]
     },
     "metadata": {},
     "output_type": "display_data"
    }
   ],
   "source": [
    "# 특정 칼럼의 범위 확인 및 outlier 확인\n",
    "\n",
    "sns.set_theme(style=\"whitegrid\")\n",
    "sns.boxplot(x=\"Glucose\", data=df, palette=\"Set3\")\n",
    "plt.title(\"Glucose\")\n",
    "plt.show()"
   ]
  },
  {
   "cell_type": "code",
   "execution_count": 22,
   "id": "c8399c35",
   "metadata": {},
   "outputs": [
    {
     "data": {
      "text/plain": [
       "Text(0.5, 1.0, 'Outcome')"
      ]
     },
     "execution_count": 22,
     "metadata": {},
     "output_type": "execute_result"
    },
    {
     "data": {
      "image/png": "[encoded data removed]",
      "text/plain": [
       "<Figure size 640x480 with 1 Axes>"
      ]
     },
     "metadata": {},
     "output_type": "display_data"
    }
   ],
   "source": [
    "# 레이블 갯수 확인 (그래프)\n",
    "import matplotlib.pyplot as plt\n",
    "import seaborn as sns\n",
    "sns.countplot(data = df, x=\"Outcome\")\n",
    "plt.xlabel(\"0 or 1 \")\n",
    "plt.ylabel(\"Count\")\n",
    "plt.title(\"Outcome\")"
   ]
  },
  {
   "cell_type": "code",
   "execution_count": 23,
   "id": "e10e6b94",
   "metadata": {},
   "outputs": [
    {
     "name": "stdout",
     "output_type": "stream",
     "text": [
      "표준화된 데이터프레임:\n",
      "              Glucose  BloodPressure  SkinThickness   Insulin       BMI  \\\n",
      "Pregnancies                                                               \n",
      "6            0.847771       0.149543       0.906679 -0.692439  0.203880   \n",
      "1           -1.122665      -0.160441       0.530556 -0.692439 -0.683976   \n",
      "8            1.942458      -0.263769      -1.287373 -0.692439 -1.102537   \n",
      "1           -0.997558      -0.160441       0.154433  0.123221 -0.493721   \n",
      "0            0.503727      -1.503707       0.906679  0.765337  1.408828   \n",
      "...               ...            ...            ...       ...       ...   \n",
      "10          -0.622237       0.356200       1.721613  0.869464  0.115094   \n",
      "2            0.034575       0.046215       0.405181 -0.692439  0.609757   \n",
      "5            0.003299       0.149543       0.154433  0.279412 -0.734711   \n",
      "1            0.159683      -0.470426      -1.287373 -0.692439 -0.240048   \n",
      "1           -0.872451       0.046215       0.655930 -0.692439 -0.201997   \n",
      "\n",
      "             DiabetesPedigreeFunction       Age   Outcome  \n",
      "Pregnancies                                                \n",
      "6                            0.468187  1.425067  1.365006  \n",
      "1                           -0.364823 -0.190548 -0.731643  \n",
      "8                            0.604004 -0.105515  1.365006  \n",
      "1                           -0.920163 -1.040871 -0.731643  \n",
      "0                            5.481337 -0.020483  1.365006  \n",
      "...                               ...       ...       ...  \n",
      "10                          -0.908090  2.530487 -0.731643  \n",
      "2                           -0.398023 -0.530677 -0.731643  \n",
      "5                           -0.684747 -0.275580 -0.731643  \n",
      "1                           -0.370859  1.169970  1.365006  \n",
      "1                           -0.473476 -0.870806 -0.731643  \n",
      "\n",
      "[768 rows x 8 columns]\n"
     ]
    }
   ],
   "source": [
    "import pandas as pd\n",
    "\n",
    "# 샘플 데이터프레임 생성\n",
    "\n",
    "\n",
    "# 각 열의 평균과 표준편차를 계산\n",
    "mean = df.mean()\n",
    "std = df.std()\n",
    "\n",
    "# 표준화 수행\n",
    "standardized_df = (df - mean) / std\n",
    "\n",
    "print(\"표준화된 데이터프레임:\")\n",
    "print(standardized_df)"
   ]
  },
  {
   "cell_type": "code",
   "execution_count": 24,
   "id": "71c6c649",
   "metadata": {},
   "outputs": [
    {
     "name": "stdout",
     "output_type": "stream",
     "text": [
      "최소-최대 스케일링된 데이터프레임:\n",
      "              Glucose  BloodPressure  SkinThickness   Insulin       BMI  \\\n",
      "Pregnancies                                                               \n",
      "6            0.743719       0.590164       0.353535  0.000000  0.500745   \n",
      "1            0.427136       0.540984       0.292929  0.000000  0.396423   \n",
      "8            0.919598       0.524590       0.000000  0.000000  0.347243   \n",
      "1            0.447236       0.540984       0.232323  0.111111  0.418778   \n",
      "0            0.688442       0.327869       0.353535  0.198582  0.642325   \n",
      "...               ...            ...            ...       ...       ...   \n",
      "10           0.507538       0.622951       0.484848  0.212766  0.490313   \n",
      "2            0.613065       0.573770       0.272727  0.000000  0.548435   \n",
      "5            0.608040       0.590164       0.232323  0.132388  0.390462   \n",
      "1            0.633166       0.491803       0.000000  0.000000  0.448584   \n",
      "1            0.467337       0.573770       0.313131  0.000000  0.453055   \n",
      "\n",
      "             DiabetesPedigreeFunction       Age  Outcome  \n",
      "Pregnancies                                               \n",
      "6                            0.234415  0.483333      1.0  \n",
      "1                            0.116567  0.166667      0.0  \n",
      "8                            0.253629  0.183333      1.0  \n",
      "1                            0.038002  0.000000      0.0  \n",
      "0                            0.943638  0.200000      1.0  \n",
      "...                               ...       ...      ...  \n",
      "10                           0.039710  0.700000      0.0  \n",
      "2                            0.111870  0.100000      0.0  \n",
      "5                            0.071307  0.150000      0.0  \n",
      "1                            0.115713  0.433333      1.0  \n",
      "1                            0.101196  0.033333      0.0  \n",
      "\n",
      "[768 rows x 8 columns]\n"
     ]
    }
   ],
   "source": [
    "import pandas as pd\n",
    "\n",
    "# 각 열의 최소값과 최대값을 계산\n",
    "min_val = df.min()\n",
    "max_val = df.max()\n",
    "\n",
    "# 최소-최대 스케일링 수행\n",
    "scaled_df = (df - min_val) / (max_val - min_val)\n",
    "\n",
    "print(\"최소-최대 스케일링된 데이터프레임:\")\n",
    "print(scaled_df)"
   ]
  }
 ],
 "metadata": {
  "kernelspec": {
   "display_name": "Python 3 (ipykernel)",
   "language": "python",
   "name": "python3"
  },
  "language_info": {
   "codemirror_mode": {
    "name": "ipython",
    "version": 3
   },
   "file_extension": ".py",
   "mimetype": "text/x-python",
   "name": "python",
   "nbconvert_exporter": "python",
   "pygments_lexer": "ipython3",
   "version": "3.11.4"
  }
 },
 "nbformat": 4,
 "nbformat_minor": 5
}
